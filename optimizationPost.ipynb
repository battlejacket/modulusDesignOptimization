{
 "cells": [
  {
   "cell_type": "code",
   "execution_count": 13,
   "metadata": {},
   "outputs": [
    {
     "name": "stdout",
     "output_type": "stream",
     "text": [
      "2.19288296054323e-05 meter ** 2 * watt / joule\n",
      "2e-05 meter ** 2 * watt / joule\n",
      "length scale is 0.13 meter\n",
      "time scale is 0.013000000000000001 second\n",
      "mass scale is 0.0026034450000000002 kilogram\n",
      "temperature scale is 700 kelvin\n",
      "nd fluid cond:  0.11859785783836418\n",
      "nd fluid diff:  1.6868330465717154e-05\n",
      "nd solid cond:  4.543979227523532\n",
      "nd solid diff:  1.5384615384615384e-05\n",
      "length scale is 0.01 meter\n",
      "time scale is 0.0005 second\n",
      "mass scale is 1.1850000000000003e-06 kilogram\n",
      "temperature scale is 300 kelvin\n"
     ]
    }
   ],
   "source": [
    "from pymoo.visualization.scatter import Scatter\n",
    "import numpy as np\n",
    "import os, sys, glob, io, time\n",
    "import csv\n",
    "from thermal import modHeat\n",
    "from pymoo.optimize import minimize\n",
    "from pymoo.core.problem import ElementwiseEvaluationFunction, LoopedElementwiseEvaluation, Problem\n",
    "from pymoo.algorithms.moo.nsga2 import NSGA2\n",
    "from pymoo.visualization.scatter import Scatter\n",
    "import contextlib\n",
    "from multiprocessing import Process\n",
    "import glob\n",
    "\n",
    "from globalProperties import *\n",
    "\n",
    "np.set_printoptions(edgeitems=30, linewidth = 1000000)"
   ]
  },
  {
   "cell_type": "code",
   "execution_count": 59,
   "metadata": {},
   "outputs": [],
   "source": [
    "F = np.load(\"optResultsF.npy\")\n",
    "X = np.load(\"optResultsX.npy\")\n",
    "G = np.load(\"optResultsG.npy\")\n",
    "F[:,1] = F[:,1]/0.13\n",
    "popF = np.load(\"popF.npy\")\n",
    "popX = np.load(\"popX.npy\")\n",
    "popG = np.load(\"popG.npy\")\n"
   ]
  },
  {
   "cell_type": "code",
   "execution_count": 60,
   "metadata": {},
   "outputs": [],
   "source": [
    "res = np.concatenate((X, F, G), axis=1)\n",
    "ressorted=res[res[:, -3].argsort()]"
   ]
  },
  {
   "cell_type": "code",
   "execution_count": 31,
   "metadata": {},
   "outputs": [],
   "source": [
    "pop = np.concatenate((popX, popF, popG), axis=1)\n",
    "popsorted=pop[pop[:, -1].argsort()]"
   ]
  },
  {
   "cell_type": "code",
   "execution_count": 62,
   "metadata": {},
   "outputs": [
    {
     "data": {
      "text/plain": [
       "<pymoo.visualization.scatter.Scatter at 0x7f04213616d0>"
      ]
     },
     "execution_count": 62,
     "metadata": {},
     "output_type": "execute_result"
    },
    {
     "data": {
      "image/png": "[encoded data removed]",
      "text/plain": [
       "<Figure size 400x300 with 1 Axes>"
      ]
     },
     "metadata": {},
     "output_type": "display_data"
    }
   ],
   "source": [
    "plt = Scatter(labels=[\"Mean Temperature\", \"Max Temperature Gradient\"], figsize=(4,3))\n",
    "plt.add(ressorted[:,-3:-1])\n",
    "plt.add(ressorted[0,-3:-1], color='r')\n",
    "plt.add(ressorted[10,-3:-1], color='r')\n",
    "plt.add(ressorted[-1,-3:-1], color='r')\n",
    "plt.show()"
   ]
  },
  {
   "cell_type": "code",
   "execution_count": 182,
   "metadata": {},
   "outputs": [],
   "source": [
    "def mod2ansParamConv(designs, ansParamMap):\n",
    "    ansParam = [None]*len(ansParamMap)\n",
    "    for parameters in designs:\n",
    "        i = 0\n",
    "        for parameter in parameters:\n",
    "            if i == 5:\n",
    "                ansParam[ansParamMap[i]] = str(-parameter).replace(\".\", \",\")\n",
    "            elif i == 6 or i == 7:\n",
    "                ansParam[ansParamMap[i]] = str(parameter+20).replace(\".\", \",\")\n",
    "            else:\n",
    "                ansParam[ansParamMap[i]] = str(parameter).replace(\".\", \",\")\n",
    "            i += 1\n",
    "        print(ansParam)"
   ]
  },
  {
   "cell_type": "code",
   "execution_count": 183,
   "metadata": {},
   "outputs": [
    {
     "name": "stdout",
     "output_type": "stream",
     "text": [
      "['4,98734983', '3,0', '19,719909622', '21,45761183', '15,7102973', '13,2175441', '19,077221', '14,3248941']\n",
      "['4,99700709', '3,0', '19,185724192', '18,65932919', '10,599178', '13,1023945', '16,3527939', '12,0711145']\n",
      "['4,9945328', '3,0', '20,468288616', '19,323317533', '10,0721946', '10,4834109', '11,8585982', '16,91784']\n"
     ]
    }
   ],
   "source": [
    "mod2ansParamConv([[ 3.00000000e+00,  4.98734983e+00,  1.90772210e+01,  1.43248941e+01,  1.57102973e+01, -1.32175441e+01, -2.80090378e-01,  1.45761183e+00],\n",
    "                  [ 3.00000000e+00,  4.99700709e+00,  1.63527939e+01,  1.20711145e+01,  1.05991780e+01, -1.31023945e+01, -8.14275808e-01, -1.34067081e+00],\n",
    "                  [ 3.00000000e+00,  4.99453280e+00,  1.18585982e+01,  1.69178400e+01,  1.00721946e+01, -1.04834109e+01,  4.68288616e-01, -6.76682467e-01]],\n",
    "       [1, 0, 6, 7, 4, 5, 2, 3])"
   ]
  },
  {
   "cell_type": "code",
   "execution_count": 93,
   "metadata": {},
   "outputs": [
    {
     "name": "stdout",
     "output_type": "stream",
     "text": [
      "DP104_channelXZ_4,995-3,000-20,468-19,323-10,072-10,483-11,859-16,918.csv\n",
      "DP104_internalXZ1_4,995-3,000-20,468-19,323-10,072-10,483-11,859-16,918.csv\n",
      "DP104_internalXZ2_4,995-3,000-20,468-19,323-10,072-10,483-11,859-16,918.csv\n",
      "DP104_internalYZ2_4,995-3,000-20,468-19,323-10,072-10,483-11,859-16,918.csv\n",
      "DP104_solidXZ_4,995-3,000-20,468-19,323-10,072-10,483-11,859-16,918.csv\n",
      "DP104_solidYZ2_4,995-3,000-20,468-19,323-10,072-10,483-11,859-16,918.csv\n"
     ]
    }
   ],
   "source": [
    "s = \"DP 104 (Current)\t4,9945328\t3\t20,468288616\t19,323317533\t10,0721946\t10,4834109\t11,8585982\t16,91784\"\n",
    "pref = [\"channelXZ\", \"internalXZ1\", \"internalXZ2\", \"internalYZ2\", \"solidXZ\", \"solidYZ2\"]\n",
    "\n",
    "parameters = s.split(\"\\t\")\n",
    "\n",
    "a = \"_\"\n",
    "for parameter in parameters[1:]:\n",
    "    parameterF = round(float(parameter.replace(\",\", \".\")), 3)\n",
    "    a += \"%.3f\" % parameterF + \"-\"\n",
    "\n",
    "for pr in pref:\n",
    "    print(parameters[0][:-10].replace(\" \", \"\") + \"_\" + pr  + a[:-1].replace(\".\", \",\") + \".csv\")\n",
    "    # print(a)"
   ]
  },
  {
   "cell_type": "code",
   "execution_count": 11,
   "metadata": {},
   "outputs": [
    {
     "name": "stdout",
     "output_type": "stream",
     "text": [
      "./outputs/thermal/rsF1/validators/current/DP99/channelYZ2.vtp\n",
      "./outputs/thermal/rsF1/validators/current/DP99/internalYZ2.vtp\n",
      "./outputs/thermal/rsF1/validators/current/DP99/solidYZ1.vtp\n",
      "./outputs/thermal/rsF1/validators/current/DP99/channelYZ1.vtp\n",
      "./outputs/thermal/rsF1/validators/current/DP99/internalXZ1.vtp\n",
      "./outputs/thermal/rsF1/validators/current/DP99/channelXZ.vtp\n",
      "./outputs/thermal/rsF1/validators/current/DP99/internalXZ2.vtp\n",
      "./outputs/thermal/rsF1/validators/current/DP99/solidXZ.vtp\n",
      "./outputs/thermal/rsF1/validators/current/DP99/internalYZ1.vtp\n",
      "./outputs/thermal/rsF1/validators/current/DP99/solidYZ2.vtp\n",
      "./outputs/thermal/rsF1/validators/current/DP100/internalYZ1.vtp\n",
      "./outputs/thermal/rsF1/validators/current/DP100/channelYZ1.vtp\n",
      "./outputs/thermal/rsF1/validators/current/DP100/solidYZ1.vtp\n",
      "./outputs/thermal/rsF1/validators/current/DP100/internalXZ2.vtp\n",
      "./outputs/thermal/rsF1/validators/current/DP100/internalYZ2.vtp\n",
      "./outputs/thermal/rsF1/validators/current/DP100/channelYZ2.vtp\n",
      "./outputs/thermal/rsF1/validators/current/DP100/solidXZ.vtp\n",
      "./outputs/thermal/rsF1/validators/current/DP100/channelXZ.vtp\n",
      "./outputs/thermal/rsF1/validators/current/DP100/solidYZ2.vtp\n",
      "./outputs/thermal/rsF1/validators/current/DP100/internalXZ1.vtp\n",
      "./outputs/thermal/rsF1/validators/current/DP101/solidXZ.vtp\n",
      "./outputs/thermal/rsF1/validators/current/DP101/solidYZ2.vtp\n",
      "./outputs/thermal/rsF1/validators/current/DP101/channelYZ2.vtp\n",
      "./outputs/thermal/rsF1/validators/current/DP101/channelXZ.vtp\n",
      "./outputs/thermal/rsF1/validators/current/DP101/internalYZ1.vtp\n",
      "./outputs/thermal/rsF1/validators/current/DP101/internalXZ2.vtp\n",
      "./outputs/thermal/rsF1/validators/current/DP101/solidYZ1.vtp\n",
      "./outputs/thermal/rsF1/validators/current/DP101/internalYZ2.vtp\n",
      "./outputs/thermal/rsF1/validators/current/DP101/channelYZ1.vtp\n",
      "./outputs/thermal/rsF1/validators/current/DP101/internalXZ1.vtp\n",
      "./outputs/thermal/rsF1/validators/current/DP102/internalYZ2.vtp\n",
      "./outputs/thermal/rsF1/validators/current/DP102/solidXZ.vtp\n",
      "./outputs/thermal/rsF1/validators/current/DP102/internalXZ2.vtp\n",
      "./outputs/thermal/rsF1/validators/current/DP102/solidYZ1.vtp\n",
      "./outputs/thermal/rsF1/validators/current/DP102/solidYZ2.vtp\n",
      "./outputs/thermal/rsF1/validators/current/DP102/channelXZ.vtp\n",
      "./outputs/thermal/rsF1/validators/current/DP102/internalXZ1.vtp\n",
      "./outputs/thermal/rsF1/validators/current/DP103/internalYZ2.vtp\n",
      "./outputs/thermal/rsF1/validators/current/DP103/internalXZ2.vtp\n",
      "./outputs/thermal/rsF1/validators/current/DP103/solidXZ.vtp\n",
      "./outputs/thermal/rsF1/validators/current/DP103/solidYZ2.vtp\n",
      "./outputs/thermal/rsF1/validators/current/DP103/channelXZ.vtp\n",
      "./outputs/thermal/rsF1/validators/current/DP103/internalXZ1.vtp\n",
      "./outputs/thermal/rsF1/validators/current/DP103/channelXZS.vtp\n",
      "./outputs/thermal/rsF1/validators/current/DP104/internalYZ2.vtp\n",
      "./outputs/thermal/rsF1/validators/current/DP104/solidYZ2.vtp\n",
      "./outputs/thermal/rsF1/validators/current/DP104/internalXZ2.vtp\n",
      "./outputs/thermal/rsF1/validators/current/DP104/channelXZ.vtp\n",
      "./outputs/thermal/rsF1/validators/current/DP104/solidXZ.vtp\n",
      "./outputs/thermal/rsF1/validators/current/DP104/internalXZ1.vtp\n"
     ]
    }
   ],
   "source": [
    "import shutil\n",
    "import glob\n",
    "import os\n",
    "\n",
    "for i in range(6):\n",
    "    n = 99+i\n",
    "    # print(n)\n",
    "    filePattern = \"DP\" + str(n) + \"*\"\n",
    "    # print(filePattern)\n",
    "    # filePattern = \"DP104*\"\n",
    "    sDir = \"./outputs/thermal/rsF1/validators/\"\n",
    "    tDir = os.path.join(\"./outputs/thermal/rsF1/validators/current\", filePattern[:-1])\n",
    "    os.mkdir(tDir)\n",
    "    filePaths = glob.glob(os.path.join(sDir, filePattern))\n",
    "    for file_path in filePaths:\n",
    "        tPath = os.path.join(tDir, file_path.split(\"_\")[1]) + \".vtp\"\n",
    "        print(tPath)\n",
    "        shutil.copy(file_path, tPath)\n"
   ]
  },
  {
   "cell_type": "code",
   "execution_count": 35,
   "metadata": {},
   "outputs": [],
   "source": [
    "import csv\n",
    "with open('paretoAns.csv', newline='') as csvfile:\n",
    "    spamreader = csv.reader(csvfile)\n",
    "    a = [row for row in spamreader]\n",
    "    a = a[3:]\n",
    "    a = [row[1:] for row in a]\n",
    "    # print(a)\n",
    "    npa = np.ones((len(a),2))\n",
    "    for row in enumerate(a):\n",
    "        npa[row[0],0]=row[1][0]\n",
    "        npa[row[0],1]=row[1][1]\n",
    "\n",
    "npaSorted=npa[npa[:,1].argsort()]\n",
    "    "
   ]
  },
  {
   "cell_type": "code",
   "execution_count": 57,
   "metadata": {},
   "outputs": [
    {
     "data": {
      "text/plain": [
       "<pymoo.visualization.scatter.Scatter at 0x7f042122bf10>"
      ]
     },
     "execution_count": 57,
     "metadata": {},
     "output_type": "execute_result"
    },
    {
     "data": {
      "image/png": "[encoded data removed]",
      "text/plain": [
       "<Figure size 400x300 with 1 Axes>"
      ]
     },
     "metadata": {},
     "output_type": "display_data"
    }
   ],
   "source": [
    "plt = Scatter(labels=[\"Mean Temperature\", \"Max Temperature Gradient\"], figsize=(4,3))\n",
    "plt.add(npaSorted)\n",
    "plt.add(npaSorted[0], color='r')\n",
    "plt.add(npaSorted[43], color='r')\n",
    "plt.add(npaSorted[-1], color='r')\n",
    "# plt.add(ressorted[:,-3:-1], color='g')\n",
    "# plt.add(ressorted[0,-3:-1], color='y')\n",
    "# plt.add(ressorted[10,-3:-1], color='y')\n",
    "# plt.add(ressorted[-1,-3:-1], color='y')\n",
    "plt.show()\n"
   ]
  },
  {
   "cell_type": "code",
   "execution_count": 48,
   "metadata": {},
   "outputs": [
    {
     "name": "stdout",
     "output_type": "stream",
     "text": [
      "[[3.9682423312465, 4.347807349228687, 11.44440994112209, 11.199246500509634, 13.511303693551328, -14.94396743984046, -0.4866958623154112, 0.17457115471716378], [3.76690079396928, 4.172218306487319, 11.88943877288943, 12.847620209601896, 12.971872261596083, -13.34492621986694, -0.2508390890740806, -2.2745349133730635], [3.44527238348337, 4.366404264075123, 11.97142738334767, 13.046668201927961, 12.947045610414397, -12.94595616907899, -1.2407294745890098, -3.3269627747960975]]\n"
     ]
    }
   ],
   "source": [
    "#mod2ans nonsorted\n",
    "designs = [[3.96824233124650, 4.3478073492286873,\t11.44440994112209,\t11.199246500509634,\t13.511303693551328,\t14.94396743984046,\t19.51330413768459,\t20.174571154717164],\n",
    "               [3.76690079396928, 4.1722183064873191,\t11.88943877288943,\t12.847620209601896,\t12.971872261596083,\t13.34492621986694,\t19.74916091092592,\t17.725465086626937],\n",
    "               [3.44527238348337, 4.3664042640751228,\t11.97142738334767,\t13.046668201927961,\t12.947045610414397,\t12.94595616907899,\t18.75927052541099,\t16.673037225203903]]\n",
    "for design in designs:\n",
    "    design[5]=-design[5]\n",
    "    design[6]=design[6]-20\n",
    "    design[7]=design[7]-20\n",
    "\n",
    "print(designs)"
   ]
  },
  {
   "cell_type": "code",
   "execution_count": 50,
   "metadata": {},
   "outputs": [
    {
     "name": "stdout",
     "output_type": "stream",
     "text": [
      "55576.61538461538\n"
     ]
    }
   ],
   "source": [
    "n = 7224.96\n",
    "\n",
    "print(n/0.13)"
   ]
  }
 ],
 "metadata": {
  "kernelspec": {
   "display_name": "Python 3",
   "language": "python",
   "name": "python3"
  },
  "language_info": {
   "codemirror_mode": {
    "name": "ipython",
    "version": 3
   },
   "file_extension": ".py",
   "mimetype": "text/x-python",
   "name": "python",
   "nbconvert_exporter": "python",
   "pygments_lexer": "ipython3",
   "version": "3.8.10"
  },
  "orig_nbformat": 4
 },
 "nbformat": 4,
 "nbformat_minor": 2
}
